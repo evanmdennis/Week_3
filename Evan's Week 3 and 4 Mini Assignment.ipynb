{
 "cells": [
  {
   "cell_type": "markdown",
   "metadata": {},
   "source": [
    "# My attempt at sex classification from T1-weighted brain MR images "
   ]
  },
  {
   "cell_type": "code",
   "execution_count": 1,
   "metadata": {},
   "outputs": [
    {
     "ename": "AttributeError",
     "evalue": "module 'tensorflow._api.v2.train' has no attribute 'SessionRunHook'",
     "output_type": "error",
     "traceback": [
      "\u001b[0;31m---------------------------------------------------------------------------\u001b[0m",
      "\u001b[0;31mAttributeError\u001b[0m                            Traceback (most recent call last)",
      "\u001b[0;32m<ipython-input-1-722a6aae2060>\u001b[0m in \u001b[0;36m<module>\u001b[0;34m\u001b[0m\n\u001b[1;32m     12\u001b[0m \u001b[0;34m\u001b[0m\u001b[0m\n\u001b[1;32m     13\u001b[0m \u001b[0;32mfrom\u001b[0m \u001b[0mdltk\u001b[0m\u001b[0;34m.\u001b[0m\u001b[0mnetworks\u001b[0m\u001b[0;34m.\u001b[0m\u001b[0mregression_classification\u001b[0m\u001b[0;34m.\u001b[0m\u001b[0mresnet\u001b[0m \u001b[0;32mimport\u001b[0m \u001b[0mresnet_3d\u001b[0m\u001b[0;34m\u001b[0m\u001b[0;34m\u001b[0m\u001b[0m\n\u001b[0;32m---> 14\u001b[0;31m \u001b[0;32mfrom\u001b[0m \u001b[0mdltk\u001b[0m\u001b[0;34m.\u001b[0m\u001b[0mio\u001b[0m\u001b[0;34m.\u001b[0m\u001b[0mabstract_reader\u001b[0m \u001b[0;32mimport\u001b[0m \u001b[0mReader\u001b[0m\u001b[0;34m\u001b[0m\u001b[0;34m\u001b[0m\u001b[0m\n\u001b[0m\u001b[1;32m     15\u001b[0m \u001b[0;34m\u001b[0m\u001b[0m\n\u001b[1;32m     16\u001b[0m \u001b[0;32mfrom\u001b[0m \u001b[0mreader\u001b[0m \u001b[0;32mimport\u001b[0m \u001b[0mread_fn\u001b[0m\u001b[0;34m\u001b[0m\u001b[0;34m\u001b[0m\u001b[0m\n",
      "\u001b[0;32m~/opt/anaconda3/lib/python3.8/site-packages/dltk/io/abstract_reader.py\u001b[0m in \u001b[0;36m<module>\u001b[0;34m\u001b[0m\n\u001b[1;32m      8\u001b[0m \u001b[0;34m\u001b[0m\u001b[0m\n\u001b[1;32m      9\u001b[0m \u001b[0;34m\u001b[0m\u001b[0m\n\u001b[0;32m---> 10\u001b[0;31m \u001b[0;32mclass\u001b[0m \u001b[0mIteratorInitializerHook\u001b[0m\u001b[0;34m(\u001b[0m\u001b[0mtf\u001b[0m\u001b[0;34m.\u001b[0m\u001b[0mtrain\u001b[0m\u001b[0;34m.\u001b[0m\u001b[0mSessionRunHook\u001b[0m\u001b[0;34m)\u001b[0m\u001b[0;34m:\u001b[0m\u001b[0;34m\u001b[0m\u001b[0;34m\u001b[0m\u001b[0m\n\u001b[0m\u001b[1;32m     11\u001b[0m     \u001b[0;34m\"\"\"Hook to initialise data iterator after Session is created.\"\"\"\u001b[0m\u001b[0;34m\u001b[0m\u001b[0;34m\u001b[0m\u001b[0m\n\u001b[1;32m     12\u001b[0m \u001b[0;34m\u001b[0m\u001b[0m\n",
      "\u001b[0;31mAttributeError\u001b[0m: module 'tensorflow._api.v2.train' has no attribute 'SessionRunHook'"
     ]
    }
   ],
   "source": [
    "#I really hope this works! Not entirely sure if I understand the instructions in the README doc, but here goes nothing!\n",
    "from __future__ import unicode_literals\n",
    "from __future__ import print_function\n",
    "from __future__ import division\n",
    "from __future__ import absolute_import\n",
    "\n",
    "import argparse\n",
    "import os\n",
    "import pandas as pd\n",
    "import tensorflow as tf\n",
    "import numpy as np\n",
    "\n",
    "from dltk.networks.regression_classification.resnet import resnet_3d\n",
    "from dltk.io.abstract_reader import Reader\n",
    "\n",
    "from reader import read_fn\n",
    "\n",
    "\n",
    "EVAL_EVERY_N_STEPS = 100\n",
    "EVAL_STEPS = 5\n",
    "\n",
    "NUM_CLASSES = 2\n",
    "NUM_CHANNELS = 1\n",
    "\n",
    "BATCH_SIZE = 8\n",
    "SHUFFLE_CACHE_SIZE = 32\n",
    "\n",
    "MAX_STEPS = 50000\n",
    "\n",
    "\n",
    "\n"
   ]
  },
  {
   "cell_type": "markdown",
   "metadata": {},
   "source": [
    "# So that didn't work because I guess I don't have tensorflow, but I was able to import tensor flow in previous assignments...hopefully this fixes it"
   ]
  },
  {
   "cell_type": "code",
   "execution_count": 3,
   "metadata": {},
   "outputs": [
    {
     "name": "stdout",
     "output_type": "stream",
     "text": [
      "Requirement already satisfied: tensorflow in /Users/evandennis/opt/anaconda3/lib/python3.8/site-packages (2.3.1)\n",
      "Requirement already satisfied: absl-py>=0.7.0 in /Users/evandennis/opt/anaconda3/lib/python3.8/site-packages (from tensorflow) (0.10.0)\n",
      "Requirement already satisfied: six>=1.12.0 in /Users/evandennis/opt/anaconda3/lib/python3.8/site-packages (from tensorflow) (1.15.0)\n",
      "Requirement already satisfied: protobuf>=3.9.2 in /Users/evandennis/opt/anaconda3/lib/python3.8/site-packages (from tensorflow) (3.13.0)\n",
      "Requirement already satisfied: opt-einsum>=2.3.2 in /Users/evandennis/opt/anaconda3/lib/python3.8/site-packages (from tensorflow) (3.3.0)\n",
      "Requirement already satisfied: wrapt>=1.11.1 in /Users/evandennis/opt/anaconda3/lib/python3.8/site-packages (from tensorflow) (1.11.2)\n",
      "Requirement already satisfied: grpcio>=1.8.6 in /Users/evandennis/opt/anaconda3/lib/python3.8/site-packages (from tensorflow) (1.32.0)\n",
      "Requirement already satisfied: h5py<2.11.0,>=2.10.0 in /Users/evandennis/opt/anaconda3/lib/python3.8/site-packages (from tensorflow) (2.10.0)\n",
      "Requirement already satisfied: termcolor>=1.1.0 in /Users/evandennis/opt/anaconda3/lib/python3.8/site-packages (from tensorflow) (1.1.0)\n",
      "Requirement already satisfied: tensorboard<3,>=2.3.0 in /Users/evandennis/opt/anaconda3/lib/python3.8/site-packages (from tensorflow) (2.3.0)\n",
      "Requirement already satisfied: tensorflow-estimator<2.4.0,>=2.3.0 in /Users/evandennis/opt/anaconda3/lib/python3.8/site-packages (from tensorflow) (2.3.0)\n",
      "Requirement already satisfied: numpy<1.19.0,>=1.16.0 in /Users/evandennis/opt/anaconda3/lib/python3.8/site-packages (from tensorflow) (1.18.5)\n",
      "Requirement already satisfied: google-pasta>=0.1.8 in /Users/evandennis/opt/anaconda3/lib/python3.8/site-packages (from tensorflow) (0.2.0)\n",
      "Requirement already satisfied: gast==0.3.3 in /Users/evandennis/opt/anaconda3/lib/python3.8/site-packages (from tensorflow) (0.3.3)\n",
      "Requirement already satisfied: keras-preprocessing<1.2,>=1.1.1 in /Users/evandennis/opt/anaconda3/lib/python3.8/site-packages (from tensorflow) (1.1.2)\n",
      "Requirement already satisfied: wheel>=0.26 in /Users/evandennis/opt/anaconda3/lib/python3.8/site-packages (from tensorflow) (0.35.1)\n",
      "Requirement already satisfied: astunparse==1.6.3 in /Users/evandennis/opt/anaconda3/lib/python3.8/site-packages (from tensorflow) (1.6.3)\n",
      "Requirement already satisfied: setuptools in /Users/evandennis/opt/anaconda3/lib/python3.8/site-packages (from protobuf>=3.9.2->tensorflow) (49.6.0.post20200814)\n",
      "Requirement already satisfied: google-auth<2,>=1.6.3 in /Users/evandennis/opt/anaconda3/lib/python3.8/site-packages (from tensorboard<3,>=2.3.0->tensorflow) (1.22.0)\n",
      "Requirement already satisfied: tensorboard-plugin-wit>=1.6.0 in /Users/evandennis/opt/anaconda3/lib/python3.8/site-packages (from tensorboard<3,>=2.3.0->tensorflow) (1.7.0)\n",
      "Requirement already satisfied: markdown>=2.6.8 in /Users/evandennis/opt/anaconda3/lib/python3.8/site-packages (from tensorboard<3,>=2.3.0->tensorflow) (3.2.2)\n",
      "Requirement already satisfied: google-auth-oauthlib<0.5,>=0.4.1 in /Users/evandennis/opt/anaconda3/lib/python3.8/site-packages (from tensorboard<3,>=2.3.0->tensorflow) (0.4.1)\n",
      "Requirement already satisfied: requests<3,>=2.21.0 in /Users/evandennis/opt/anaconda3/lib/python3.8/site-packages (from tensorboard<3,>=2.3.0->tensorflow) (2.24.0)\n",
      "Requirement already satisfied: werkzeug>=0.11.15 in /Users/evandennis/opt/anaconda3/lib/python3.8/site-packages (from tensorboard<3,>=2.3.0->tensorflow) (1.0.1)\n",
      "Requirement already satisfied: aiohttp<4.0.0dev,>=3.6.2; python_version >= \"3.6\" in /Users/evandennis/opt/anaconda3/lib/python3.8/site-packages (from google-auth<2,>=1.6.3->tensorboard<3,>=2.3.0->tensorflow) (3.6.2)\n",
      "Requirement already satisfied: pyasn1-modules>=0.2.1 in /Users/evandennis/opt/anaconda3/lib/python3.8/site-packages (from google-auth<2,>=1.6.3->tensorboard<3,>=2.3.0->tensorflow) (0.2.8)\n",
      "Requirement already satisfied: rsa<5,>=3.1.4; python_version >= \"3.5\" in /Users/evandennis/opt/anaconda3/lib/python3.8/site-packages (from google-auth<2,>=1.6.3->tensorboard<3,>=2.3.0->tensorflow) (4.6)\n",
      "Requirement already satisfied: cachetools<5.0,>=2.0.0 in /Users/evandennis/opt/anaconda3/lib/python3.8/site-packages (from google-auth<2,>=1.6.3->tensorboard<3,>=2.3.0->tensorflow) (4.1.1)\n",
      "Requirement already satisfied: requests-oauthlib>=0.7.0 in /Users/evandennis/opt/anaconda3/lib/python3.8/site-packages (from google-auth-oauthlib<0.5,>=0.4.1->tensorboard<3,>=2.3.0->tensorflow) (1.3.0)\n",
      "Requirement already satisfied: urllib3!=1.25.0,!=1.25.1,<1.26,>=1.21.1 in /Users/evandennis/opt/anaconda3/lib/python3.8/site-packages (from requests<3,>=2.21.0->tensorboard<3,>=2.3.0->tensorflow) (1.25.10)\n",
      "Requirement already satisfied: chardet<4,>=3.0.2 in /Users/evandennis/opt/anaconda3/lib/python3.8/site-packages (from requests<3,>=2.21.0->tensorboard<3,>=2.3.0->tensorflow) (3.0.4)\n",
      "Requirement already satisfied: idna<3,>=2.5 in /Users/evandennis/opt/anaconda3/lib/python3.8/site-packages (from requests<3,>=2.21.0->tensorboard<3,>=2.3.0->tensorflow) (2.10)\n",
      "Requirement already satisfied: certifi>=2017.4.17 in /Users/evandennis/opt/anaconda3/lib/python3.8/site-packages (from requests<3,>=2.21.0->tensorboard<3,>=2.3.0->tensorflow) (2020.6.20)\n",
      "Requirement already satisfied: multidict<5.0,>=4.5 in /Users/evandennis/opt/anaconda3/lib/python3.8/site-packages (from aiohttp<4.0.0dev,>=3.6.2; python_version >= \"3.6\"->google-auth<2,>=1.6.3->tensorboard<3,>=2.3.0->tensorflow) (4.7.6)\n",
      "Requirement already satisfied: attrs>=17.3.0 in /Users/evandennis/opt/anaconda3/lib/python3.8/site-packages (from aiohttp<4.0.0dev,>=3.6.2; python_version >= \"3.6\"->google-auth<2,>=1.6.3->tensorboard<3,>=2.3.0->tensorflow) (20.2.0)\n",
      "Requirement already satisfied: async-timeout<4.0,>=3.0 in /Users/evandennis/opt/anaconda3/lib/python3.8/site-packages (from aiohttp<4.0.0dev,>=3.6.2; python_version >= \"3.6\"->google-auth<2,>=1.6.3->tensorboard<3,>=2.3.0->tensorflow) (3.0.1)\n",
      "Requirement already satisfied: yarl<2.0,>=1.0 in /Users/evandennis/opt/anaconda3/lib/python3.8/site-packages (from aiohttp<4.0.0dev,>=3.6.2; python_version >= \"3.6\"->google-auth<2,>=1.6.3->tensorboard<3,>=2.3.0->tensorflow) (1.6.0)\n",
      "Requirement already satisfied: pyasn1<0.5.0,>=0.4.6 in /Users/evandennis/opt/anaconda3/lib/python3.8/site-packages (from pyasn1-modules>=0.2.1->google-auth<2,>=1.6.3->tensorboard<3,>=2.3.0->tensorflow) (0.4.8)\n",
      "Requirement already satisfied: oauthlib>=3.0.0 in /Users/evandennis/opt/anaconda3/lib/python3.8/site-packages (from requests-oauthlib>=0.7.0->google-auth-oauthlib<0.5,>=0.4.1->tensorboard<3,>=2.3.0->tensorflow) (3.1.0)\n"
     ]
    }
   ],
   "source": [
    "!pip install tensorflow\n"
   ]
  },
  {
   "cell_type": "markdown",
   "metadata": {},
   "source": [
    "# Still getting traceback. I think I need to install a different version of tensorflow based on what I found online"
   ]
  },
  {
   "cell_type": "code",
   "execution_count": 9,
   "metadata": {},
   "outputs": [
    {
     "name": "stdout",
     "output_type": "stream",
     "text": [
      "\u001b[31mERROR: Could not find a version that satisfies the requirement tensorflow-gpu==1.15 (from versions: none)\u001b[0m\r\n",
      "\u001b[31mERROR: No matching distribution found for tensorflow-gpu==1.15\u001b[0m\r\n"
     ]
    }
   ],
   "source": [
    "!pip install tensorflow-gpu==1.15"
   ]
  },
  {
   "cell_type": "markdown",
   "metadata": {},
   "source": [
    "# That didn't work, but I think I need to upgrade pip"
   ]
  },
  {
   "cell_type": "code",
   "execution_count": 7,
   "metadata": {},
   "outputs": [
    {
     "name": "stdout",
     "output_type": "stream",
     "text": [
      "Collecting pip\n",
      "  Downloading pip-20.2.3-py2.py3-none-any.whl (1.5 MB)\n",
      "\u001b[K     |████████████████████████████████| 1.5 MB 1.5 MB/s eta 0:00:01\n",
      "\u001b[?25hCollecting setuptools\n",
      "  Downloading setuptools-50.3.0-py3-none-any.whl (785 kB)\n",
      "\u001b[K     |████████████████████████████████| 785 kB 2.9 MB/s eta 0:00:01\n",
      "\u001b[?25hInstalling collected packages: pip, setuptools\n",
      "  Attempting uninstall: pip\n",
      "    Found existing installation: pip 20.2.2\n",
      "    Uninstalling pip-20.2.2:\n",
      "      Successfully uninstalled pip-20.2.2\n",
      "  Attempting uninstall: setuptools\n",
      "    Found existing installation: setuptools 49.6.0.post20200814\n",
      "    Uninstalling setuptools-49.6.0.post20200814:\n",
      "      Successfully uninstalled setuptools-49.6.0.post20200814\n",
      "Successfully installed pip-20.2.3 setuptools-50.3.0\n"
     ]
    }
   ],
   "source": [
    "!python -m pip install --upgrade pip setuptools"
   ]
  },
  {
   "cell_type": "markdown",
   "metadata": {},
   "source": [
    "# Ok that was kinda scary, but hopefully now I can run the cell above. Still need dltk"
   ]
  },
  {
   "cell_type": "code",
   "execution_count": 10,
   "metadata": {},
   "outputs": [
    {
     "name": "stdout",
     "output_type": "stream",
     "text": [
      "Requirement already satisfied: dltk in /Users/evandennis/opt/anaconda3/lib/python3.8/site-packages (0.2.1)\n",
      "Requirement already satisfied: pandas>=0.19.0 in /Users/evandennis/opt/anaconda3/lib/python3.8/site-packages (from dltk) (1.1.1)\n",
      "Requirement already satisfied: SimpleITK>=1.0.0 in /Users/evandennis/opt/anaconda3/lib/python3.8/site-packages (from dltk) (2.0.0)\n",
      "Requirement already satisfied: xlrd>=1.1.0 in /Users/evandennis/opt/anaconda3/lib/python3.8/site-packages (from dltk) (1.2.0)\n",
      "Requirement already satisfied: numpy>=1.14.0 in /Users/evandennis/opt/anaconda3/lib/python3.8/site-packages (from dltk) (1.18.5)\n",
      "Requirement already satisfied: jupyter>=1.0.0 in /Users/evandennis/opt/anaconda3/lib/python3.8/site-packages (from dltk) (1.0.0)\n",
      "Requirement already satisfied: scikit-image>=0.13.0 in /Users/evandennis/opt/anaconda3/lib/python3.8/site-packages (from dltk) (0.16.2)\n",
      "Requirement already satisfied: argparse in /Users/evandennis/opt/anaconda3/lib/python3.8/site-packages (from dltk) (1.4.0)\n",
      "Requirement already satisfied: matplotlib>=1.5.3 in /Users/evandennis/opt/anaconda3/lib/python3.8/site-packages (from dltk) (3.3.1)\n",
      "Requirement already satisfied: scipy>=0.19.0 in /Users/evandennis/opt/anaconda3/lib/python3.8/site-packages (from dltk) (1.5.0)\n",
      "Requirement already satisfied: future>=0.16.0 in /Users/evandennis/opt/anaconda3/lib/python3.8/site-packages (from dltk) (0.18.2)\n",
      "Requirement already satisfied: python-dateutil>=2.7.3 in /Users/evandennis/opt/anaconda3/lib/python3.8/site-packages (from pandas>=0.19.0->dltk) (2.8.1)\n",
      "Requirement already satisfied: pytz>=2017.2 in /Users/evandennis/opt/anaconda3/lib/python3.8/site-packages (from pandas>=0.19.0->dltk) (2020.1)\n",
      "Requirement already satisfied: nbconvert in /Users/evandennis/opt/anaconda3/lib/python3.8/site-packages (from jupyter>=1.0.0->dltk) (5.6.1)\n",
      "Requirement already satisfied: ipywidgets in /Users/evandennis/opt/anaconda3/lib/python3.8/site-packages (from jupyter>=1.0.0->dltk) (7.5.1)\n",
      "Requirement already satisfied: qtconsole in /Users/evandennis/opt/anaconda3/lib/python3.8/site-packages (from jupyter>=1.0.0->dltk) (4.7.6)\n",
      "Requirement already satisfied: jupyter-console in /Users/evandennis/opt/anaconda3/lib/python3.8/site-packages (from jupyter>=1.0.0->dltk) (6.2.0)\n",
      "Requirement already satisfied: ipykernel in /Users/evandennis/opt/anaconda3/lib/python3.8/site-packages (from jupyter>=1.0.0->dltk) (5.3.4)\n",
      "Requirement already satisfied: notebook in /Users/evandennis/opt/anaconda3/lib/python3.8/site-packages (from jupyter>=1.0.0->dltk) (6.1.1)\n",
      "Requirement already satisfied: pillow>=4.3.0 in /Users/evandennis/opt/anaconda3/lib/python3.8/site-packages (from scikit-image>=0.13.0->dltk) (7.2.0)\n",
      "Requirement already satisfied: networkx>=2.0 in /Users/evandennis/opt/anaconda3/lib/python3.8/site-packages (from scikit-image>=0.13.0->dltk) (2.5)\n",
      "Requirement already satisfied: PyWavelets>=0.4.0 in /Users/evandennis/opt/anaconda3/lib/python3.8/site-packages (from scikit-image>=0.13.0->dltk) (1.1.1)\n",
      "Requirement already satisfied: imageio>=2.3.0 in /Users/evandennis/opt/anaconda3/lib/python3.8/site-packages (from scikit-image>=0.13.0->dltk) (2.9.0)\n",
      "Requirement already satisfied: kiwisolver>=1.0.1 in /Users/evandennis/opt/anaconda3/lib/python3.8/site-packages (from matplotlib>=1.5.3->dltk) (1.2.0)\n",
      "Requirement already satisfied: certifi>=2020.06.20 in /Users/evandennis/opt/anaconda3/lib/python3.8/site-packages (from matplotlib>=1.5.3->dltk) (2020.6.20)\n",
      "Requirement already satisfied: cycler>=0.10 in /Users/evandennis/opt/anaconda3/lib/python3.8/site-packages (from matplotlib>=1.5.3->dltk) (0.10.0)\n",
      "Requirement already satisfied: pyparsing!=2.0.4,!=2.1.2,!=2.1.6,>=2.0.3 in /Users/evandennis/opt/anaconda3/lib/python3.8/site-packages (from matplotlib>=1.5.3->dltk) (2.4.7)\n",
      "Requirement already satisfied: six>=1.5 in /Users/evandennis/opt/anaconda3/lib/python3.8/site-packages (from python-dateutil>=2.7.3->pandas>=0.19.0->dltk) (1.15.0)\n",
      "Requirement already satisfied: entrypoints>=0.2.2 in /Users/evandennis/opt/anaconda3/lib/python3.8/site-packages (from nbconvert->jupyter>=1.0.0->dltk) (0.3)\n",
      "Requirement already satisfied: mistune<2,>=0.8.1 in /Users/evandennis/opt/anaconda3/lib/python3.8/site-packages (from nbconvert->jupyter>=1.0.0->dltk) (0.8.4)\n",
      "Requirement already satisfied: traitlets>=4.2 in /Users/evandennis/opt/anaconda3/lib/python3.8/site-packages (from nbconvert->jupyter>=1.0.0->dltk) (4.3.3)\n",
      "Requirement already satisfied: bleach in /Users/evandennis/opt/anaconda3/lib/python3.8/site-packages (from nbconvert->jupyter>=1.0.0->dltk) (3.2.1)\n",
      "Requirement already satisfied: pandocfilters>=1.4.1 in /Users/evandennis/opt/anaconda3/lib/python3.8/site-packages (from nbconvert->jupyter>=1.0.0->dltk) (1.4.2)\n",
      "Requirement already satisfied: jupyter-core in /Users/evandennis/opt/anaconda3/lib/python3.8/site-packages (from nbconvert->jupyter>=1.0.0->dltk) (4.6.3)\n",
      "Requirement already satisfied: jinja2>=2.4 in /Users/evandennis/opt/anaconda3/lib/python3.8/site-packages (from nbconvert->jupyter>=1.0.0->dltk) (2.11.2)\n",
      "Requirement already satisfied: nbformat>=4.4 in /Users/evandennis/opt/anaconda3/lib/python3.8/site-packages (from nbconvert->jupyter>=1.0.0->dltk) (5.0.7)\n",
      "Requirement already satisfied: defusedxml in /Users/evandennis/opt/anaconda3/lib/python3.8/site-packages (from nbconvert->jupyter>=1.0.0->dltk) (0.6.0)\n",
      "Requirement already satisfied: testpath in /Users/evandennis/opt/anaconda3/lib/python3.8/site-packages (from nbconvert->jupyter>=1.0.0->dltk) (0.4.4)\n",
      "Requirement already satisfied: pygments in /Users/evandennis/opt/anaconda3/lib/python3.8/site-packages (from nbconvert->jupyter>=1.0.0->dltk) (2.7.1)\n",
      "Requirement already satisfied: widgetsnbextension~=3.5.0 in /Users/evandennis/opt/anaconda3/lib/python3.8/site-packages (from ipywidgets->jupyter>=1.0.0->dltk) (3.5.1)\n",
      "Requirement already satisfied: ipython>=4.0.0; python_version >= \"3.3\" in /Users/evandennis/opt/anaconda3/lib/python3.8/site-packages (from ipywidgets->jupyter>=1.0.0->dltk) (7.18.1)\n",
      "Requirement already satisfied: jupyter-client>=4.1 in /Users/evandennis/opt/anaconda3/lib/python3.8/site-packages (from qtconsole->jupyter>=1.0.0->dltk) (6.1.6)\n",
      "Requirement already satisfied: pyzmq>=17.1 in /Users/evandennis/opt/anaconda3/lib/python3.8/site-packages (from qtconsole->jupyter>=1.0.0->dltk) (19.0.2)\n",
      "Requirement already satisfied: ipython-genutils in /Users/evandennis/opt/anaconda3/lib/python3.8/site-packages (from qtconsole->jupyter>=1.0.0->dltk) (0.2.0)\n",
      "Requirement already satisfied: qtpy in /Users/evandennis/opt/anaconda3/lib/python3.8/site-packages (from qtconsole->jupyter>=1.0.0->dltk) (1.9.0)\n",
      "Requirement already satisfied: prompt-toolkit!=3.0.0,!=3.0.1,<3.1.0,>=2.0.0 in /Users/evandennis/opt/anaconda3/lib/python3.8/site-packages (from jupyter-console->jupyter>=1.0.0->dltk) (3.0.7)\n",
      "Requirement already satisfied: appnope; platform_system == \"Darwin\" in /Users/evandennis/opt/anaconda3/lib/python3.8/site-packages (from ipykernel->jupyter>=1.0.0->dltk) (0.1.0)\n",
      "Requirement already satisfied: tornado>=4.2 in /Users/evandennis/opt/anaconda3/lib/python3.8/site-packages (from ipykernel->jupyter>=1.0.0->dltk) (6.0.4)\n",
      "Requirement already satisfied: terminado>=0.8.3 in /Users/evandennis/opt/anaconda3/lib/python3.8/site-packages (from notebook->jupyter>=1.0.0->dltk) (0.8.3)\n",
      "Requirement already satisfied: prometheus-client in /Users/evandennis/opt/anaconda3/lib/python3.8/site-packages (from notebook->jupyter>=1.0.0->dltk) (0.8.0)\n",
      "Requirement already satisfied: argon2-cffi in /Users/evandennis/opt/anaconda3/lib/python3.8/site-packages (from notebook->jupyter>=1.0.0->dltk) (20.1.0)\n",
      "Requirement already satisfied: Send2Trash in /Users/evandennis/opt/anaconda3/lib/python3.8/site-packages (from notebook->jupyter>=1.0.0->dltk) (1.5.0)\n",
      "Requirement already satisfied: decorator>=4.3.0 in /Users/evandennis/opt/anaconda3/lib/python3.8/site-packages (from networkx>=2.0->scikit-image>=0.13.0->dltk) (4.4.2)\n",
      "Requirement already satisfied: webencodings in /Users/evandennis/opt/anaconda3/lib/python3.8/site-packages (from bleach->nbconvert->jupyter>=1.0.0->dltk) (0.5.1)\n",
      "Requirement already satisfied: packaging in /Users/evandennis/opt/anaconda3/lib/python3.8/site-packages (from bleach->nbconvert->jupyter>=1.0.0->dltk) (20.4)\n",
      "Requirement already satisfied: MarkupSafe>=0.23 in /Users/evandennis/opt/anaconda3/lib/python3.8/site-packages (from jinja2>=2.4->nbconvert->jupyter>=1.0.0->dltk) (1.1.1)\n",
      "Requirement already satisfied: jsonschema!=2.5.0,>=2.4 in /Users/evandennis/opt/anaconda3/lib/python3.8/site-packages (from nbformat>=4.4->nbconvert->jupyter>=1.0.0->dltk) (3.2.0)\n"
     ]
    },
    {
     "name": "stdout",
     "output_type": "stream",
     "text": [
      "Requirement already satisfied: jedi>=0.10 in /Users/evandennis/opt/anaconda3/lib/python3.8/site-packages (from ipython>=4.0.0; python_version >= \"3.3\"->ipywidgets->jupyter>=1.0.0->dltk) (0.17.1)\n",
      "Requirement already satisfied: backcall in /Users/evandennis/opt/anaconda3/lib/python3.8/site-packages (from ipython>=4.0.0; python_version >= \"3.3\"->ipywidgets->jupyter>=1.0.0->dltk) (0.2.0)\n",
      "Requirement already satisfied: pexpect>4.3; sys_platform != \"win32\" in /Users/evandennis/opt/anaconda3/lib/python3.8/site-packages (from ipython>=4.0.0; python_version >= \"3.3\"->ipywidgets->jupyter>=1.0.0->dltk) (4.8.0)\n",
      "Requirement already satisfied: setuptools>=18.5 in /Users/evandennis/opt/anaconda3/lib/python3.8/site-packages (from ipython>=4.0.0; python_version >= \"3.3\"->ipywidgets->jupyter>=1.0.0->dltk) (49.6.0.post20200814)\n",
      "Requirement already satisfied: pickleshare in /Users/evandennis/opt/anaconda3/lib/python3.8/site-packages (from ipython>=4.0.0; python_version >= \"3.3\"->ipywidgets->jupyter>=1.0.0->dltk) (0.7.5)\n",
      "Requirement already satisfied: wcwidth in /Users/evandennis/opt/anaconda3/lib/python3.8/site-packages (from prompt-toolkit!=3.0.0,!=3.0.1,<3.1.0,>=2.0.0->jupyter-console->jupyter>=1.0.0->dltk) (0.2.5)\n",
      "Requirement already satisfied: cffi>=1.0.0 in /Users/evandennis/opt/anaconda3/lib/python3.8/site-packages (from argon2-cffi->notebook->jupyter>=1.0.0->dltk) (1.14.2)\n",
      "Requirement already satisfied: attrs>=17.4.0 in /Users/evandennis/opt/anaconda3/lib/python3.8/site-packages (from jsonschema!=2.5.0,>=2.4->nbformat>=4.4->nbconvert->jupyter>=1.0.0->dltk) (20.2.0)\n",
      "Requirement already satisfied: pyrsistent>=0.14.0 in /Users/evandennis/opt/anaconda3/lib/python3.8/site-packages (from jsonschema!=2.5.0,>=2.4->nbformat>=4.4->nbconvert->jupyter>=1.0.0->dltk) (0.17.3)\n",
      "Requirement already satisfied: parso<0.8.0,>=0.7.0 in /Users/evandennis/opt/anaconda3/lib/python3.8/site-packages (from jedi>=0.10->ipython>=4.0.0; python_version >= \"3.3\"->ipywidgets->jupyter>=1.0.0->dltk) (0.7.0)\n",
      "Requirement already satisfied: ptyprocess>=0.5 in /Users/evandennis/opt/anaconda3/lib/python3.8/site-packages (from pexpect>4.3; sys_platform != \"win32\"->ipython>=4.0.0; python_version >= \"3.3\"->ipywidgets->jupyter>=1.0.0->dltk) (0.6.0)\n",
      "Requirement already satisfied: pycparser in /Users/evandennis/opt/anaconda3/lib/python3.8/site-packages (from cffi>=1.0.0->argon2-cffi->notebook->jupyter>=1.0.0->dltk) (2.20)\n"
     ]
    }
   ],
   "source": [
    "!pip install dltk"
   ]
  },
  {
   "cell_type": "markdown",
   "metadata": {},
   "source": [
    "# Still no dice...."
   ]
  },
  {
   "cell_type": "code",
   "execution_count": 9,
   "metadata": {},
   "outputs": [],
   "source": [
    "#Now lets copy over the next part of the script\n",
    "def model_fn(features, labels, mode, params):\n",
    "    \"\"\"Model function to construct a tf.estimator.EstimatorSpec. It creates a\n",
    "        network given input features (e.g. from a dltk.io.abstract_reader) and\n",
    "        training targets (labels). Further, loss, optimiser, evaluation ops and\n",
    "        custom tensorboard summary ops can be added. For additional information,\n",
    "         please refer to https://www.tensorflow.org/api_docs/python/tf/estimator/Estimator#model_fn.\n",
    "    Args:\n",
    "        features (tf.Tensor): Tensor of input features to train from. Required\n",
    "            rank and dimensions are determined by the subsequent ops\n",
    "            (i.e. the network).\n",
    "        labels (tf.Tensor): Tensor of training targets or labels. Required rank\n",
    "            and dimensions are determined by the network output.\n",
    "        mode (str): One of the tf.estimator.ModeKeys: TRAIN, EVAL or PREDICT\n",
    "        params (dict, optional): A dictionary to parameterise the model_fn\n",
    "            (e.g. learning_rate)\n",
    "    Returns:\n",
    "        tf.estimator.EstimatorSpec: A custom EstimatorSpec for this experiment\n",
    "    \"\"\"\n",
    "\n",
    "    # 1. create a model and its outputs\n",
    "    net_output_ops = resnet_3d(\n",
    "        features['x'],\n",
    "        num_res_units=2,\n",
    "        num_classes=NUM_CLASSES,\n",
    "        filters=(16, 32, 64, 128, 256),\n",
    "        strides=((1, 1, 1), (2, 2, 2), (2, 2, 2), (2, 2, 2), (2, 2, 2)),\n",
    "        mode=mode,\n",
    "        kernel_regularizer=tf.contrib.layers.l2_regularizer(1e-3))\n",
    "\n",
    "    # 1.1 Generate predictions only (for `ModeKeys.PREDICT`)\n",
    "    if mode == tf.estimator.ModeKeys.PREDICT:\n",
    "        return tf.estimator.EstimatorSpec(\n",
    "            mode=mode,\n",
    "            predictions=net_output_ops,\n",
    "            export_outputs={'out': tf.estimator.export.PredictOutput(net_output_ops)})\n",
    "\n",
    "    # 2. set up a loss function\n",
    "    one_hot_labels = tf.reshape(tf.one_hot(labels['y'], depth=NUM_CLASSES), [-1, NUM_CLASSES])\n",
    "\n",
    "    loss = tf.losses.softmax_cross_entropy(\n",
    "        onehot_labels=one_hot_labels,\n",
    "        logits=net_output_ops['logits'])\n",
    "\n",
    "    # 3. define a training op and ops for updating moving averages (i.e. for\n",
    "    # batch normalisation)\n",
    "    global_step = tf.train.get_global_step()\n",
    "    optimiser = tf.train.AdamOptimizer(\n",
    "        learning_rate=params[\"learning_rate\"],\n",
    "        epsilon=1e-5)\n",
    "\n",
    "    update_ops = tf.get_collection(tf.GraphKeys.UPDATE_OPS)\n",
    "    with tf.control_dependencies(update_ops):\n",
    "        train_op = optimiser.minimize(loss, global_step=global_step)\n",
    "\n",
    "    # 4.1 (optional) create custom image summaries for tensorboard\n",
    "    my_image_summaries = {}\n",
    "    my_image_summaries['feat_t1'] = features['x'][0, 32, :, :, 0]\n",
    "\n",
    "    expected_output_size = [1, 96, 96, 1]  # [B, W, H, C]\n",
    "    [tf.summary.image(name, tf.reshape(image, expected_output_size))\n",
    "     for name, image in my_image_summaries.items()]\n",
    "\n",
    "    # 4.2 (optional) track the rmse (scaled back by 100, see reader.py)\n",
    "    acc = tf.metrics.accuracy\n",
    "    prec = tf.metrics.precision\n",
    "    eval_metric_ops = {\"accuracy\": acc(labels['y'], net_output_ops['y_']),\n",
    "                       \"precision\": prec(labels['y'], net_output_ops['y_'])}\n",
    "\n",
    "    # 5. Return EstimatorSpec object\n",
    "    return tf.estimator.EstimatorSpec(mode=mode,\n",
    "                                      predictions=net_output_ops,\n",
    "                                      loss=loss,\n",
    "                                      train_op=train_op,\n",
    "                                      eval_metric_ops=eval_metric_ops)\n",
    "\n"
   ]
  },
  {
   "cell_type": "code",
   "execution_count": null,
   "metadata": {},
   "outputs": [],
   "source": []
  }
 ],
 "metadata": {
  "kernelspec": {
   "display_name": "Python 3",
   "language": "python",
   "name": "python3"
  },
  "language_info": {
   "codemirror_mode": {
    "name": "ipython",
    "version": 3
   },
   "file_extension": ".py",
   "mimetype": "text/x-python",
   "name": "python",
   "nbconvert_exporter": "python",
   "pygments_lexer": "ipython3",
   "version": "3.8.3"
  }
 },
 "nbformat": 4,
 "nbformat_minor": 4
}
